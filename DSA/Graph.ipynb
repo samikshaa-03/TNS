{
 "cells": [
  {
   "cell_type": "markdown",
   "metadata": {
    "id": "HYX8YL05Vzwu"
   },
   "source": [
    "## Graph from Scratch"
   ]
  },
  {
   "cell_type": "code",
   "execution_count": 1,
   "metadata": {
    "colab": {
     "base_uri": "https://localhost:8080/"
    },
    "executionInfo": {
     "elapsed": 44,
     "status": "ok",
     "timestamp": 1751346239902,
     "user": {
      "displayName": "Kartik Patel",
      "userId": "14064721412265191955"
     },
     "user_tz": -330
    },
    "id": "v09D437cV3u1",
    "outputId": "2036c3bc-e366-497d-ae0f-ea32567fd9e3"
   },
   "outputs": [
    {
     "name": "stdout",
     "output_type": "stream",
     "text": [
      "Graph Adjacency List:\n",
      "1: [2, 3]\n",
      "2: [1, 4]\n",
      "3: [1, 5]\n",
      "4: [2]\n",
      "5: [3, 6]\n",
      "6: [5]\n",
      "\n",
      "BFS from 1:\n",
      "1 2 3 4 5 6 \n",
      "\n",
      "DFS from 1:\n",
      "1 2 4 3 5 6 \n",
      "\n",
      "No Cycle\n",
      "\n",
      "Connected Components: 1\n",
      "\n",
      "Bipartite Graph:\n"
     ]
    }
   ],
   "source": [
    "from collections import defaultdict, deque\n",
    "\n",
    "# Graph class\n",
    "class Graph:\n",
    "    def __init__(self):\n",
    "        # Using a defaultdict to automatically create an empty list for new vertices\n",
    "        self.adj = defaultdict(list)\n",
    "\n",
    "    # Add an edge to the graph\n",
    "    def add_edge(self, u, v):\n",
    "        self.adj[u].append(v)\n",
    "        self.adj[v].append(u)  # remove this line for directed graph\n",
    "\n",
    "    # Display the adjacency list\n",
    "    def display(self):\n",
    "        for node in self.adj:\n",
    "            print(f\"{node}: {self.adj[node]}\")\n",
    "\n",
    "    # Breadth-First Search\n",
    "    def bfs(self, start):\n",
    "        visited = set()\n",
    "        q = deque([start])\n",
    "        while q:\n",
    "            node = q.popleft()\n",
    "            if node not in visited:\n",
    "                print(node, end=\" \")\n",
    "                visited.add(node)\n",
    "                for neighbor in self.adj[node]:\n",
    "                    if neighbor not in visited:\n",
    "                        q.append(neighbor)\n",
    "        print()\n",
    "\n",
    "    # Depth-First Search utility\n",
    "    def dfs_util(self, node, visited):\n",
    "        print(node, end=\" \")\n",
    "        visited.add(node)\n",
    "        for neighbor in self.adj[node]:\n",
    "            if neighbor not in visited:\n",
    "                self.dfs_util(neighbor, visited)\n",
    "\n",
    "    # Depth-First Search\n",
    "    def dfs(self, start):\n",
    "        visited = set()\n",
    "        self.dfs_util(start, visited)\n",
    "        print()\n",
    "\n",
    "    # Detect Cycle (BFS based for undirected graph)\n",
    "    def has_cycle(self):\n",
    "        visited = set()\n",
    "        parent = {}\n",
    "        q = deque()\n",
    "\n",
    "        for start in self.adj:\n",
    "            if start not in visited:\n",
    "                q.append(start)\n",
    "                visited.add(start)\n",
    "                parent[start] = -1\n",
    "\n",
    "                while q:\n",
    "                    node = q.popleft()\n",
    "                    for neighbor in self.adj[node]:\n",
    "                        if neighbor not in visited:\n",
    "                            visited.add(neighbor)\n",
    "                            q.append(neighbor)\n",
    "                            parent[neighbor] = node\n",
    "                        elif parent[node] != neighbor:\n",
    "                            return True\n",
    "        return False\n",
    "\n",
    "    # Count Connected Components\n",
    "    def count_components(self):\n",
    "        visited = set()\n",
    "        count = 0\n",
    "\n",
    "        def dfs_component(node):\n",
    "            visited.add(node)\n",
    "            for neighbor in self.adj[node]:\n",
    "                if neighbor not in visited:\n",
    "                    dfs_component(neighbor)\n",
    "\n",
    "        for node in self.adj:\n",
    "            if node not in visited:\n",
    "                dfs_component(node)\n",
    "                count += 1\n",
    "        return count\n",
    "\n",
    "    # Check if Graph is Bipartite (BFS-based)\n",
    "    def is_bipartite(self):\n",
    "        color = {}\n",
    "        for start in self.adj:\n",
    "            if start not in color:\n",
    "                q = deque([start])\n",
    "                color[start] = 0\n",
    "\n",
    "                while q:\n",
    "                    node = q.popleft()\n",
    "                    for neighbor in self.adj[node]:\n",
    "                        if neighbor not in color:\n",
    "                            color[neighbor] = 1 - color[node]\n",
    "                            q.append(neighbor)\n",
    "                        elif color[neighbor] == color[node]:\n",
    "                            return False\n",
    "        return True\n",
    "\n",
    "# Example Usage\n",
    "g = Graph()\n",
    "g.add_edge(1, 2)\n",
    "g.add_edge(1, 3)\n",
    "g.add_edge(2, 4)\n",
    "g.add_edge(3, 5)\n",
    "g.add_edge(5, 6)\n",
    "\n",
    "print(\"Graph Adjacency List:\")\n",
    "g.display()\n",
    "\n",
    "print(\"\\nBFS from 1:\")\n",
    "g.bfs(1)\n",
    "\n",
    "print(\"\\nDFS from 1:\")\n",
    "g.dfs(1)\n",
    "\n",
    "print(\"\\nCycle Exists:\" if g.has_cycle() else \"\\nNo Cycle\")\n",
    "\n",
    "print(\"\\nConnected Components:\", g.count_components())\n",
    "\n",
    "print(\"\\nBipartite Graph:\" if g.is_bipartite() else \"\\nNot Bipartite\")\n"
   ]
  },
  {
   "cell_type": "markdown",
   "metadata": {
    "id": "wehHzHivX3yV"
   },
   "source": [
    "## DSA Problems"
   ]
  },
  {
   "cell_type": "markdown",
   "metadata": {
    "id": "d4bj9H3_Y41B"
   },
   "source": [
    "## 1. Find Number of Connected Components in a Graph\n",
    "\n",
    "Problem:\n",
    "Given an undirected graph, count how many connected components it has."
   ]
  },
  {
   "cell_type": "code",
   "execution_count": 20,
   "metadata": {
    "id": "AdaiT76bZQoQ"
   },
   "outputs": [
    {
     "name": "stdout",
     "output_type": "stream",
     "text": [
      "Connected Components: 1\n"
     ]
    }
   ],
   "source": [
    "def count_components(graph):\n",
    "    visited = set()\n",
    "    count = 0\n",
    "\n",
    "    def dfs(node):\n",
    "        visited.add(node)\n",
    "        for neighbor in graph.adj[node]:\n",
    "            if neighbor not in visited:\n",
    "                dfs(neighbor)\n",
    "\n",
    "    for node in graph.adj:\n",
    "        if node not in visited:\n",
    "            dfs(node)\n",
    "            count += 1\n",
    "    return count\n",
    "\n",
    "# Example\n",
    "print(\"Connected Components:\", count_components(g))\n"
   ]
  },
  {
   "cell_type": "markdown",
   "metadata": {
    "id": "ySCBgDDTZnrR"
   },
   "source": [
    "## 2. Detect Cycle in an Undirected Graph\n",
    "Problem:\n",
    "Check whether an undirected graph contains a cycle."
   ]
  },
  {
   "cell_type": "code",
   "execution_count": 19,
   "metadata": {
    "id": "8FiHMa4Cc1f-"
   },
   "outputs": [
    {
     "name": "stdout",
     "output_type": "stream",
     "text": [
      "Cycle Exists:\n"
     ]
    }
   ],
   "source": [
    "def has_cycle(graph):\n",
    "    visited = set()\n",
    "    parent = {}\n",
    "    q = deque()\n",
    "\n",
    "    for start in graph.adj:\n",
    "        if start not in visited:\n",
    "            q.append(start)\n",
    "            visited.add(start)\n",
    "            parent[start] = -1\n",
    "\n",
    "            while q:\n",
    "                node = q.popleft()\n",
    "                for neighbor in graph.adj[node]:\n",
    "                    if neighbor not in visited:\n",
    "                        visited.add(neighbor)\n",
    "                        q.append(neighbor)\n",
    "                        parent[neighbor] = node\n",
    "                    elif parent[node] != neighbor:\n",
    "                        return True\n",
    "    return False\n",
    "\n",
    "# Example\n",
    "print(\"Cycle Exists:\" if has_cycle(g) else \"No Cycle\")\n"
   ]
  },
  {
   "cell_type": "markdown",
   "metadata": {
    "id": "MPVqC9wkc-M0"
   },
   "source": [
    "## 3.  Check if Graph is Bipartite\n",
    "\n",
    "Problem:\n",
    "\n",
    "A graph is bipartite if its nodes can be colored with 2 colors such that no two adjacent nodes have the same color. Check for bipartiteness."
   ]
  },
  {
   "cell_type": "code",
   "execution_count": 18,
   "metadata": {
    "id": "AxQbr_zUjEMp"
   },
   "outputs": [
    {
     "name": "stdout",
     "output_type": "stream",
     "text": [
      "Not Bipartite\n"
     ]
    }
   ],
   "source": [
    "def is_bipartite(graph):\n",
    "    color = {}\n",
    "    for start in graph.adj:\n",
    "        if start not in color:\n",
    "            q = deque([start])\n",
    "            color[start] = 0\n",
    "\n",
    "            while q:\n",
    "                node = q.popleft()\n",
    "                for neighbor in graph.adj[node]:\n",
    "                    if neighbor not in color:\n",
    "                        color[neighbor] = 1 - color[node]\n",
    "                        q.append(neighbor)\n",
    "                    elif color[neighbor] == color[node]:\n",
    "                        return False\n",
    "    return True\n",
    "\n",
    "# Example\n",
    "print(\"Bipartite Graph:\" if is_bipartite(g) else \"Not Bipartite\")\n"
   ]
  }
 ],
 "metadata": {
  "colab": {
   "authorship_tag": "ABX9TyMySlkEA46JHpwNx5sRdM+w",
   "provenance": []
  },
  "kernelspec": {
   "display_name": "Python 3 (ipykernel)",
   "language": "python",
   "name": "python3"
  },
  "language_info": {
   "codemirror_mode": {
    "name": "ipython",
    "version": 3
   },
   "file_extension": ".py",
   "mimetype": "text/x-python",
   "name": "python",
   "nbconvert_exporter": "python",
   "pygments_lexer": "ipython3",
   "version": "3.10.9"
  }
 },
 "nbformat": 4,
 "nbformat_minor": 4
}
