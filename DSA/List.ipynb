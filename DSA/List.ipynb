{
 "cells": [
  {
   "cell_type": "code",
   "execution_count": null,
   "id": "78b8b3d9-2d72-4d20-a79d-ac5708996383",
   "metadata": {},
   "outputs": [],
   "source": [
    "1. append()"
   ]
  },
  {
   "cell_type": "code",
   "execution_count": 1,
   "id": "1cd17974-de22-425e-aaa9-248bcc086a75",
   "metadata": {},
   "outputs": [
    {
     "name": "stdout",
     "output_type": "stream",
     "text": [
      "After append: [10, 20, 30, 40]\n"
     ]
    }
   ],
   "source": [
    "numbers = [10, 20, 30]\n",
    "numbers.append(40)\n",
    "print(\"After append:\", numbers)  # [10, 20, 30, 40]"
   ]
  },
  {
   "cell_type": "code",
   "execution_count": null,
   "id": "a4f27d8f-032c-445e-bb59-802b60519253",
   "metadata": {},
   "outputs": [],
   "source": [
    "2. extend()"
   ]
  },
  {
   "cell_type": "code",
   "execution_count": 2,
   "id": "66b01ec2-eff4-43f3-bfbc-377eb7a39f99",
   "metadata": {},
   "outputs": [
    {
     "name": "stdout",
     "output_type": "stream",
     "text": [
      "After extend: [1, 2, 3, 4, 5, 6]\n"
     ]
    }
   ],
   "source": [
    "numbers = [1, 2, 3]\n",
    "numbers.extend([4, 5, 6])\n",
    "print(\"After extend:\", numbers)  # [1, 2, 3, 4, 5, 6]"
   ]
  },
  {
   "cell_type": "code",
   "execution_count": null,
   "id": "d3f024fb-6de5-4ec2-93e2-582e9b263a55",
   "metadata": {},
   "outputs": [],
   "source": [
    "3. insert()"
   ]
  },
  {
   "cell_type": "code",
   "execution_count": 3,
   "id": "40f90ff1-290c-4ea7-a777-2cc340043375",
   "metadata": {},
   "outputs": [
    {
     "name": "stdout",
     "output_type": "stream",
     "text": [
      "After insert: [1, 2, 3, 4]\n"
     ]
    }
   ],
   "source": [
    "numbers = [1, 3, 4]\n",
    "numbers.insert(1, 2)  # Insert 2 at index 1\n",
    "print(\"After insert:\", numbers)  # [1, 2, 3, 4]"
   ]
  },
  {
   "cell_type": "code",
   "execution_count": null,
   "id": "5249e987-433e-4c00-a494-85122217db4e",
   "metadata": {},
   "outputs": [],
   "source": [
    "4. remove ()"
   ]
  },
  {
   "cell_type": "code",
   "execution_count": 5,
   "id": "dd72834f-462b-4802-82e3-4c9698363a01",
   "metadata": {},
   "outputs": [
    {
     "name": "stdout",
     "output_type": "stream",
     "text": [
      "After remove: [1, 3, 2]\n"
     ]
    }
   ],
   "source": [
    "numbers = [1, 2, 3, 2]\n",
    "numbers.remove(2)  # Removes the first 2\n",
    "print(\"After remove:\", numbers)  # [1, 3, 2]"
   ]
  },
  {
   "cell_type": "code",
   "execution_count": null,
   "id": "0a6945d6-9bf3-4af8-b0e1-e2e0a3537cad",
   "metadata": {},
   "outputs": [],
   "source": [
    "5. pop ()"
   ]
  },
  {
   "cell_type": "code",
   "execution_count": 6,
   "id": "9743c4b2-af08-4808-8f34-d814f092bba8",
   "metadata": {},
   "outputs": [
    {
     "name": "stdout",
     "output_type": "stream",
     "text": [
      "Popped value: 30\n",
      "After pop: [10, 20]\n"
     ]
    }
   ],
   "source": [
    "numbers = [10, 20, 30]\n",
    "popped_value = numbers.pop()  # Removes 30\n",
    "print(\"Popped value:\", popped_value)\n",
    "print(\"After pop:\", numbers)  # [10, 20]"
   ]
  },
  {
   "cell_type": "code",
   "execution_count": null,
   "id": "9e710b6b-f30e-42d6-a75a-ea3dbc771960",
   "metadata": {},
   "outputs": [],
   "source": [
    "6. clear ()"
   ]
  },
  {
   "cell_type": "code",
   "execution_count": 7,
   "id": "294ab485-581b-4297-90ed-d663bcbbb9fe",
   "metadata": {},
   "outputs": [
    {
     "name": "stdout",
     "output_type": "stream",
     "text": [
      "After clear: []\n"
     ]
    }
   ],
   "source": [
    "numbers = [10, 20, 30]\n",
    "numbers.clear()\n",
    "print(\"After clear:\", numbers)"
   ]
  },
  {
   "cell_type": "code",
   "execution_count": null,
   "id": "feff29de-0ea4-4580-a14f-09f5bc2850c3",
   "metadata": {},
   "outputs": [],
   "source": [
    "7. index ()"
   ]
  },
  {
   "cell_type": "code",
   "execution_count": 8,
   "id": "84c12d72-4912-4f61-8b26-66a19e55ee3e",
   "metadata": {},
   "outputs": [
    {
     "name": "stdout",
     "output_type": "stream",
     "text": [
      "Index of 30: 2\n"
     ]
    }
   ],
   "source": [
    "numbers = [10, 20, 30, 40]\n",
    "index_pos = numbers.index(30)\n",
    "print(\"Index of 30:\", index_pos)"
   ]
  },
  {
   "cell_type": "code",
   "execution_count": null,
   "id": "8ed1c031-7e60-4f6a-8dd2-746071c77ede",
   "metadata": {},
   "outputs": [],
   "source": [
    "8. count ()"
   ]
  },
  {
   "cell_type": "code",
   "execution_count": 9,
   "id": "5b1b2d80-674f-4d83-a914-c5097ea13a2a",
   "metadata": {},
   "outputs": [
    {
     "name": "stdout",
     "output_type": "stream",
     "text": [
      "Count of 2: 3\n"
     ]
    }
   ],
   "source": [
    "numbers = [1, 2, 3, 2, 4, 2]\n",
    "count_twos = numbers.count(2)\n",
    "print(\"Count of 2:\", count_twos)"
   ]
  },
  {
   "cell_type": "code",
   "execution_count": null,
   "id": "f630ee05-8eee-46cc-b17b-b56d75cea08a",
   "metadata": {},
   "outputs": [],
   "source": [
    "9. reverse ()"
   ]
  },
  {
   "cell_type": "code",
   "execution_count": 10,
   "id": "50c66fd9-369b-48a2-a875-f08f647f6fec",
   "metadata": {},
   "outputs": [
    {
     "name": "stdout",
     "output_type": "stream",
     "text": [
      "After reverse: [4, 3, 2, 1]\n"
     ]
    }
   ],
   "source": [
    "numbers = [1, 2, 3, 4]\n",
    "numbers.reverse()\n",
    "print(\"After reverse:\", numbers)"
   ]
  },
  {
   "cell_type": "code",
   "execution_count": null,
   "id": "ccaef8f2-5e5f-4dde-ace4-ff779dcd7edb",
   "metadata": {},
   "outputs": [],
   "source": [
    "10. sort ()"
   ]
  },
  {
   "cell_type": "code",
   "execution_count": 11,
   "id": "acebee9e-c2bb-47b3-84ce-a39d29f39b6b",
   "metadata": {},
   "outputs": [
    {
     "name": "stdout",
     "output_type": "stream",
     "text": [
      "After sort: [1, 2, 3, 4]\n"
     ]
    }
   ],
   "source": [
    "numbers = [3, 1, 4, 2]\n",
    "numbers.sort()\n",
    "print(\"After sort:\", numbers)"
   ]
  },
  {
   "cell_type": "code",
   "execution_count": null,
   "id": "47fe32f9-42dc-449a-bba4-f2c5efee3681",
   "metadata": {},
   "outputs": [],
   "source": [
    "11. copy ()"
   ]
  },
  {
   "cell_type": "code",
   "execution_count": 12,
   "id": "2abbf802-8d68-4988-a0a6-261a38155079",
   "metadata": {},
   "outputs": [
    {
     "name": "stdout",
     "output_type": "stream",
     "text": [
      "Copied list: [1, 2, 3]\n"
     ]
    }
   ],
   "source": [
    "numbers = [1, 2, 3]\n",
    "copy_numbers = numbers.copy()\n",
    "print(\"Copied list:\", copy_numbers)"
   ]
  },
  {
   "cell_type": "code",
   "execution_count": null,
   "id": "2474aa94-f949-4484-b949-f0cb7384db8d",
   "metadata": {},
   "outputs": [],
   "source": [
    "12. len ()"
   ]
  },
  {
   "cell_type": "code",
   "execution_count": 13,
   "id": "176f81f0-bba8-40a4-a5d5-6bca91512cd3",
   "metadata": {},
   "outputs": [
    {
     "name": "stdout",
     "output_type": "stream",
     "text": [
      "Length of list: 4\n"
     ]
    }
   ],
   "source": [
    "numbers = [1, 2, 3, 4]\n",
    "print(\"Length of list:\", len(numbers))"
   ]
  },
  {
   "cell_type": "code",
   "execution_count": null,
   "id": "9fd1fa17-46cf-4f12-8ee4-9b6242cc55df",
   "metadata": {},
   "outputs": [],
   "source": [
    "13. sum ()"
   ]
  },
  {
   "cell_type": "code",
   "execution_count": 14,
   "id": "6e0d23fc-aa6e-4962-a68d-aa6be205db99",
   "metadata": {},
   "outputs": [
    {
     "name": "stdout",
     "output_type": "stream",
     "text": [
      "Sum of list: 10\n"
     ]
    }
   ],
   "source": [
    "numbers = [1, 2, 3, 4]\n",
    "total = sum(numbers)\n",
    "print(\"Sum of list:\", total)"
   ]
  },
  {
   "cell_type": "code",
   "execution_count": null,
   "id": "7df1d40e-8f22-4658-aa81-a4eac32ada88",
   "metadata": {},
   "outputs": [],
   "source": [
    "14. min () and max ()"
   ]
  },
  {
   "cell_type": "code",
   "execution_count": 15,
   "id": "aa80f302-c5d7-4432-b04d-44805af2ed4f",
   "metadata": {},
   "outputs": [
    {
     "name": "stdout",
     "output_type": "stream",
     "text": [
      "Max value: 10\n",
      "Min value: 2\n"
     ]
    }
   ],
   "source": [
    "numbers = [5, 8, 2, 10, 3]\n",
    "print(\"Max value:\", max(numbers))  \n",
    "print(\"Min value:\", min(numbers))"
   ]
  },
  {
   "cell_type": "code",
   "execution_count": null,
   "id": "d4c054a7-d356-4ce0-bb41-ea6da75daca9",
   "metadata": {},
   "outputs": [],
   "source": [
    "Problem Statement: List Operations\n",
    "Problem:\n",
    "A. You are given a list of integers. Write a Python program to perform the following operations sequentially:\n",
    "1.Append the number 100 to the end of the list.\n",
    "\n",
    "2.Insert the number 50 at the 3rd position (index 2).\n",
    "\n",
    "3.Remove the first occurrence of the number 20.\n",
    "\n",
    "4.Count how many times 10 appears in the list.\n",
    "\n",
    "5.Reverse the list.\n",
    "\n",
    "6.Sort the list in ascending order.\n",
    "\n",
    "7.Find the maximum and minimum values in the list.\n",
    "\n",
    "8.Calculate the sum of all elements in the list."
   ]
  },
  {
   "cell_type": "code",
   "execution_count": null,
   "id": "bcb97b5c-c927-46e5-b994-cea68aa57ba4",
   "metadata": {},
   "outputs": [],
   "source": [
    "1.Append the number 100 to the end of the list"
   ]
  },
  {
   "cell_type": "code",
   "execution_count": 16,
   "id": "c4304394-ca61-44e7-9338-3704657753b6",
   "metadata": {},
   "outputs": [
    {
     "name": "stdout",
     "output_type": "stream",
     "text": [
      "Updated list after append: [10, 20, 30, 40, 100]\n"
     ]
    }
   ],
   "source": [
    "# Given list\n",
    "numbers = [10, 20, 30, 40]\n",
    "\n",
    "# Append 100 to the list\n",
    "numbers.append(100)\n",
    "\n",
    "# Print the updated list\n",
    "print(\"Updated list after append:\", numbers)"
   ]
  },
  {
   "cell_type": "code",
   "execution_count": null,
   "id": "6e6a1e90-7ffe-459d-885e-fa38bf106d21",
   "metadata": {},
   "outputs": [],
   "source": [
    "2.Insert the number 50 at the 3rd position (index 2)."
   ]
  },
  {
   "cell_type": "code",
   "execution_count": 18,
   "id": "9cd15f60-7850-425a-b6e9-f825e9b1cb62",
   "metadata": {},
   "outputs": [
    {
     "name": "stdout",
     "output_type": "stream",
     "text": [
      "Updated list after insert: [10, 20, 50, 30, 40]\n"
     ]
    }
   ],
   "source": [
    "# Given list\n",
    "numbers = [10, 20, 30, 40]\n",
    "\n",
    "# Insert 50 at index 2 (3rd position)\n",
    "numbers.insert(2, 50)\n",
    "\n",
    "# Print the updated list\n",
    "print(\"Updated list after insert:\", numbers)"
   ]
  },
  {
   "cell_type": "code",
   "execution_count": null,
   "id": "61866611-71a3-4cc3-b76b-e5270b7848f7",
   "metadata": {},
   "outputs": [],
   "source": [
    "3.Remove the first occurrence of the number 20"
   ]
  },
  {
   "cell_type": "code",
   "execution_count": 19,
   "id": "ef4118de-1f4a-4877-8367-20a2e9e25d74",
   "metadata": {},
   "outputs": [
    {
     "name": "stdout",
     "output_type": "stream",
     "text": [
      "Updated list after removing 20: [10, 30, 40, 20]\n"
     ]
    }
   ],
   "source": [
    "# Given list\n",
    "numbers = [10, 20, 30, 40, 20]\n",
    "\n",
    "# Remove the first occurrence of 20\n",
    "numbers.remove(20)\n",
    "\n",
    "# Print the updated list\n",
    "print(\"Updated list after removing 20:\", numbers)"
   ]
  },
  {
   "cell_type": "code",
   "execution_count": null,
   "id": "fb55d668-edd5-49fb-bc18-e767df7c2b67",
   "metadata": {},
   "outputs": [],
   "source": [
    "4.Count how many times 10 appears in the list."
   ]
  },
  {
   "cell_type": "code",
   "execution_count": 20,
   "id": "d809dcb1-2bcc-4f64-ab47-b1c60bb05ec0",
   "metadata": {},
   "outputs": [
    {
     "name": "stdout",
     "output_type": "stream",
     "text": [
      "Number of times 10 appears: 3\n"
     ]
    }
   ],
   "source": [
    "# Given list\n",
    "numbers = [10, 20, 30, 10, 40, 10]\n",
    "\n",
    "# Count how many times 10 appears\n",
    "count_of_10 = numbers.count(10)\n",
    "\n",
    "# Print the count\n",
    "print(\"Number of times 10 appears:\", count_of_10)"
   ]
  },
  {
   "cell_type": "code",
   "execution_count": null,
   "id": "e90848f4-9eab-44ec-b88e-9c11735e1d4a",
   "metadata": {},
   "outputs": [],
   "source": [
    "5.Reverse a List"
   ]
  },
  {
   "cell_type": "code",
   "execution_count": 21,
   "id": "27a2f1c7-06ac-41bd-9cd3-ff77c07bf609",
   "metadata": {},
   "outputs": [
    {
     "name": "stdout",
     "output_type": "stream",
     "text": [
      "List after reverse: [50, 40, 30, 20, 10]\n"
     ]
    }
   ],
   "source": [
    "# Given list\n",
    "numbers = [10, 20, 30, 40, 50]\n",
    "\n",
    "# Reverse the list\n",
    "numbers.reverse()\n",
    "\n",
    "# Print the reversed list\n",
    "print(\"List after reverse:\", numbers)"
   ]
  },
  {
   "cell_type": "code",
   "execution_count": null,
   "id": "b5f6f1d2-f015-4e19-b5ad-7c63ec63d619",
   "metadata": {},
   "outputs": [],
   "source": [
    "6.Sort the list in ascending order."
   ]
  },
  {
   "cell_type": "code",
   "execution_count": 22,
   "id": "bcd21893-997b-4826-8fdd-bb0988073173",
   "metadata": {},
   "outputs": [
    {
     "name": "stdout",
     "output_type": "stream",
     "text": [
      "List after sort: [10, 20, 30, 40, 50]\n"
     ]
    }
   ],
   "source": [
    "# Given list\n",
    "numbers = [50, 20, 40, 10, 30]\n",
    "\n",
    "# Sort the list in ascending order\n",
    "numbers.sort()\n",
    "\n",
    "# Print the sorted list\n",
    "print(\"List after sort:\", numbers)"
   ]
  },
  {
   "cell_type": "code",
   "execution_count": null,
   "id": "aae5d237-f786-499e-a391-54857052a763",
   "metadata": {},
   "outputs": [],
   "source": [
    "7.Find the maximum and minimum values in the list."
   ]
  },
  {
   "cell_type": "code",
   "execution_count": 23,
   "id": "4defb122-0118-41cd-a62d-17edb746b2aa",
   "metadata": {},
   "outputs": [
    {
     "name": "stdout",
     "output_type": "stream",
     "text": [
      "Maximum value: 50\n",
      "Minimum value: 10\n"
     ]
    }
   ],
   "source": [
    "# Given list\n",
    "numbers = [50, 20, 40, 10, 30]\n",
    "\n",
    "# Find maximum and minimum values\n",
    "maximum_value = max(numbers)\n",
    "minimum_value = min(numbers)\n",
    "\n",
    "# Print the values\n",
    "print(\"Maximum value:\", maximum_value)\n",
    "print(\"Minimum value:\", minimum_value)"
   ]
  },
  {
   "cell_type": "code",
   "execution_count": null,
   "id": "30ca3577-2ad7-4782-a016-eab938ab12aa",
   "metadata": {},
   "outputs": [],
   "source": [
    "8.the sum of all elements in the list."
   ]
  },
  {
   "cell_type": "code",
   "execution_count": 24,
   "id": "0883561f-1da1-43dd-bcf8-cf8b05eab82f",
   "metadata": {},
   "outputs": [
    {
     "name": "stdout",
     "output_type": "stream",
     "text": [
      "Sum of list: 150\n"
     ]
    }
   ],
   "source": [
    "# Given list\n",
    "numbers = [50, 20, 40, 10, 30]\n",
    "\n",
    "# Calculate the sum of all elements\n",
    "total_sum = sum(numbers)\n",
    "\n",
    "# Print the sum\n",
    "print(\"Sum of list:\", total_sum)"
   ]
  }
 ],
 "metadata": {
  "kernelspec": {
   "display_name": "Python 3 (ipykernel)",
   "language": "python",
   "name": "python3"
  },
  "language_info": {
   "codemirror_mode": {
    "name": "ipython",
    "version": 3
   },
   "file_extension": ".py",
   "mimetype": "text/x-python",
   "name": "python",
   "nbconvert_exporter": "python",
   "pygments_lexer": "ipython3",
   "version": "3.10.9"
  }
 },
 "nbformat": 4,
 "nbformat_minor": 5
}
