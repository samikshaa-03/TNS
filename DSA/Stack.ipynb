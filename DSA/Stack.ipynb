{
 "cells": [
  {
   "cell_type": "markdown",
   "metadata": {
    "id": "Jq6MMhawfhks"
   },
   "source": [
    "## Stack From Scratch"
   ]
  },
  {
   "cell_type": "code",
   "execution_count": 2,
   "metadata": {
    "id": "AdTT1ksjfk-C"
   },
   "outputs": [
    {
     "name": "stdout",
     "output_type": "stream",
     "text": [
      "Initial Stack: []\n",
      "Stack after pushes: [100, 260, 360]\n",
      "Top element (peek): 360\n",
      "Removed element (pop): 360\n",
      "Stack after pop: [100, 260]\n",
      "Is stack empty? False\n",
      "Stack size: 2\n"
     ]
    }
   ],
   "source": [
    "# Stack implementation using a class\n",
    "class Stack:\n",
    "    def __init__(self):\n",
    "        self.stack = []  # internal list to store elements\n",
    "\n",
    "    # Push operation: Add element at the end\n",
    "    def push(self, item):\n",
    "        self.stack += [item]  # concatenation instead of append\n",
    "\n",
    "    # Pop operation: Remove and return top element\n",
    "    def pop(self):\n",
    "        if not self.isEmpty():\n",
    "            top_element = self.stack[len(self.stack)-1]\n",
    "            self.stack = self.stack[:-1]  # remove last element manually\n",
    "            return top_element\n",
    "        else:\n",
    "            return \"Stack Underflow\"\n",
    "\n",
    "    # Peek operation: Return top element without removing\n",
    "    def peek(self):\n",
    "        if not self.isEmpty():\n",
    "            return self.stack[len(self.stack)-1]\n",
    "        else:\n",
    "            return \"Stack is empty\"\n",
    "\n",
    "    # isEmpty operation: Check if stack is empty\n",
    "    def isEmpty(self):\n",
    "        return len(self.stack) == 0\n",
    "\n",
    "    # size operation: Return number of elements in stack\n",
    "    def size(self):\n",
    "        return len(self.stack)\n",
    "\n",
    "    # Display stack (for debugging)\n",
    "    def display(self):\n",
    "        return self.stack\n",
    "\n",
    "\n",
    "# Example usage:\n",
    "s = Stack()\n",
    "print(\"Initial Stack:\", s.display())\n",
    "\n",
    "s.push(100)\n",
    "s.push(260)\n",
    "s.push(360)\n",
    "print(\"Stack after pushes:\", s.display())\n",
    "\n",
    "print(\"Top element (peek):\", s.peek())\n",
    "\n",
    "print(\"Removed element (pop):\", s.pop())\n",
    "print(\"Stack after pop:\", s.display())\n",
    "\n",
    "print(\"Is stack empty?\", s.isEmpty())\n",
    "print(\"Stack size:\", s.size())\n"
   ]
  },
  {
   "cell_type": "markdown",
   "metadata": {
    "id": "t8cJCC8YepxO"
   },
   "source": [
    "## Declaration of Stack"
   ]
  },
  {
   "cell_type": "code",
   "execution_count": 1,
   "metadata": {
    "id": "1dfuiZmvfP6x"
   },
   "outputs": [
    {
     "name": "stdout",
     "output_type": "stream",
     "text": [
      "Initial stack: []\n"
     ]
    }
   ],
   "source": [
    "stack = []\n",
    "print(\"Initial stack:\", stack)\n"
   ]
  },
  {
   "cell_type": "markdown",
   "metadata": {
    "id": "OmWsPQNwfuZ2"
   },
   "source": [
    "## Functions in Stack"
   ]
  },
  {
   "cell_type": "markdown",
   "metadata": {
    "id": "hEFh8_VBfzpN"
   },
   "source": [
    "### 1. push ()"
   ]
  },
  {
   "cell_type": "code",
   "execution_count": 2,
   "metadata": {
    "id": "2QzdMZjtgN8y"
   },
   "outputs": [
    {
     "name": "stdout",
     "output_type": "stream",
     "text": [
      "After push operations: [10, 20, 30]\n"
     ]
    }
   ],
   "source": [
    "stack = []\n",
    "stack.append(10)\n",
    "stack.append(20)\n",
    "stack.append(30)\n",
    "print(\"After push operations:\", stack)\n"
   ]
  },
  {
   "cell_type": "markdown",
   "metadata": {
    "id": "o2I4YfpsgQv4"
   },
   "source": [
    "## 2. pop ()"
   ]
  },
  {
   "cell_type": "code",
   "execution_count": 3,
   "metadata": {
    "id": "Kh-sp8TSgU1K"
   },
   "outputs": [
    {
     "name": "stdout",
     "output_type": "stream",
     "text": [
      "Removed element: 30\n",
      "After pop operation: [10, 20]\n"
     ]
    }
   ],
   "source": [
    "stack = [10, 20, 30]\n",
    "removed = stack.pop()\n",
    "print(\"Removed element:\", removed)\n",
    "print(\"After pop operation:\", stack)\n"
   ]
  },
  {
   "cell_type": "markdown",
   "metadata": {
    "id": "42CfXpX_gYlb"
   },
   "source": [
    "## 3. peek ()"
   ]
  },
  {
   "cell_type": "code",
   "execution_count": 4,
   "metadata": {
    "id": "oTtEDGFzgbUm"
   },
   "outputs": [
    {
     "name": "stdout",
     "output_type": "stream",
     "text": [
      "Top element: 30\n"
     ]
    }
   ],
   "source": [
    "stack = [10, 20, 30]\n",
    "print(\"Top element:\", stack[-1])\n"
   ]
  },
  {
   "cell_type": "markdown",
   "metadata": {
    "id": "X5xhM6spgjDg"
   },
   "source": [
    "## 4. isEmpty() — Check if stack is empty"
   ]
  },
  {
   "cell_type": "code",
   "execution_count": 5,
   "metadata": {
    "id": "N8eZreONgka5"
   },
   "outputs": [
    {
     "name": "stdout",
     "output_type": "stream",
     "text": [
      "Is stack empty? True\n"
     ]
    }
   ],
   "source": [
    "stack = []\n",
    "print(\"Is stack empty?\", len(stack) == 0)\n"
   ]
  },
  {
   "cell_type": "markdown",
   "metadata": {
    "id": "SHzEE3VagpAj"
   },
   "source": [
    "## 5. size ()"
   ]
  },
  {
   "cell_type": "code",
   "execution_count": 6,
   "metadata": {
    "id": "iY5kpzMfhHGj"
   },
   "outputs": [
    {
     "name": "stdout",
     "output_type": "stream",
     "text": [
      "Size of stack: 3\n"
     ]
    }
   ],
   "source": [
    "stack = [10, 20, 30]\n",
    "print(\"Size of stack:\", len(stack))\n"
   ]
  },
  {
   "cell_type": "markdown",
   "metadata": {
    "id": "s-bNCrZRhJUL"
   },
   "source": [
    "# DSA Problems"
   ]
  },
  {
   "cell_type": "markdown",
   "metadata": {
    "id": "d2n2PIVAhLSd"
   },
   "source": [
    "1. Next Greater Element (NGE) Using Stack"
   ]
  },
  {
   "cell_type": "code",
   "execution_count": 8,
   "metadata": {
    "id": "cdA_WdlYiJvy"
   },
   "outputs": [
    {
     "name": "stdout",
     "output_type": "stream",
     "text": [
      "Next Greater Elements: {4: 5, 2: 25, 5: 25, 25: -1}\n"
     ]
    }
   ],
   "source": [
    "def nextGreaterElement(arr):\n",
    "    result = {}\n",
    "    stack = []\n",
    "\n",
    "    for num in arr:\n",
    "        # Pop elements from stack if current num is greater\n",
    "        while stack and stack[-1] < num:\n",
    "            result[stack.pop()] = num\n",
    "        stack.append(num)\n",
    "\n",
    "    # Remaining elements have no greater element\n",
    "    while stack:\n",
    "        result[stack.pop()] = -1\n",
    "\n",
    "    return result\n",
    "\n",
    "# Test\n",
    "arr = [4, 5, 2, 25]\n",
    "print(\"Next Greater Elements:\", nextGreaterElement(arr))\n"
   ]
  },
  {
   "cell_type": "markdown",
   "metadata": {
    "id": "doHCj-ZwH8bM"
   },
   "source": [
    "2. Check for Balanced Parentheses"
   ]
  },
  {
   "cell_type": "code",
   "execution_count": 9,
   "metadata": {
    "id": "qRiURjZ9IS1P"
   },
   "outputs": [
    {
     "name": "stdout",
     "output_type": "stream",
     "text": [
      "Balanced\n",
      "Not Balanced\n"
     ]
    }
   ],
   "source": [
    "def isBalanced(expression):\n",
    "    stack = []\n",
    "    pairs = {')': '(', '}': '{', ']': '['}\n",
    "\n",
    "    for char in expression:\n",
    "        if char in '({[':\n",
    "            stack.append(char)\n",
    "        elif char in ')}]':\n",
    "            if not stack or stack[-1] != pairs[char]:\n",
    "                return \"Not Balanced\"\n",
    "            stack.pop()\n",
    "\n",
    "    return \"Balanced\" if not stack else \"Not Balanced\"\n",
    "\n",
    "# Test cases\n",
    "print(isBalanced(\"{[()]}\"))   # Balanced\n",
    "print(isBalanced(\"{[(])}\"))   # Not Balanced\n"
   ]
  },
  {
   "cell_type": "markdown",
   "metadata": {
    "id": "Ipw2SQJJIVBA"
   },
   "source": [
    " 3. Reverse a String Using Stack"
   ]
  },
  {
   "cell_type": "code",
   "execution_count": 11,
   "metadata": {
    "id": "X1uox1sxJwdl"
   },
   "outputs": [
    {
     "name": "stdout",
     "output_type": "stream",
     "text": [
      "nohtyp\n"
     ]
    }
   ],
   "source": [
    "def reverseString(string):\n",
    "    stack = []\n",
    "\n",
    "    for char in string:\n",
    "        stack.append(char)\n",
    "\n",
    "    reversed_str = \"\"\n",
    "    while stack:\n",
    "        reversed_str += stack.pop()\n",
    "\n",
    "    return reversed_str\n",
    "\n",
    "# Test\n",
    "print(reverseString(\"python\"))  # olleh\n"
   ]
  },
  {
   "cell_type": "markdown",
   "metadata": {
    "id": "dCx4X6OeKNLG"
   },
   "source": [
    "4. Sort a Stack (Using One More Stack)"
   ]
  },
  {
   "cell_type": "code",
   "execution_count": 3,
   "metadata": {
    "id": "H3Ynt0SzKjyb"
   },
   "outputs": [
    {
     "name": "stdout",
     "output_type": "stream",
     "text": [
      "Sorted stack: [3, 23, 31, 34, 92, 98]\n"
     ]
    }
   ],
   "source": [
    "def sortStack(original_stack):\n",
    "    temp_stack = []\n",
    "\n",
    "    while original_stack:\n",
    "        temp = original_stack.pop()\n",
    "\n",
    "        while temp_stack and temp_stack[-1] > temp:\n",
    "            original_stack.append(temp_stack.pop())\n",
    "\n",
    "        temp_stack.append(temp)\n",
    "\n",
    "    return temp_stack\n",
    "\n",
    "# Test\n",
    "stack = [34, 3, 31, 98, 92, 23]\n",
    "sorted_stack = sortStack(stack)\n",
    "print(\"Sorted stack:\", sorted_stack)\n"
   ]
  }
 ],
 "metadata": {
  "colab": {
   "provenance": []
  },
  "kernelspec": {
   "display_name": "Python 3 (ipykernel)",
   "language": "python",
   "name": "python3"
  },
  "language_info": {
   "codemirror_mode": {
    "name": "ipython",
    "version": 3
   },
   "file_extension": ".py",
   "mimetype": "text/x-python",
   "name": "python",
   "nbconvert_exporter": "python",
   "pygments_lexer": "ipython3",
   "version": "3.10.9"
  }
 },
 "nbformat": 4,
 "nbformat_minor": 4
}
