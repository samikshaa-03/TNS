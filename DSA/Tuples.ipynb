{
 "cells": [
  {
   "cell_type": "markdown",
   "metadata": {
    "id": "F02RmcPRr1XD"
   },
   "source": [
    "###  Declaration of Tuples"
   ]
  },
  {
   "cell_type": "code",
   "execution_count": 1,
   "metadata": {
    "id": "Eftz5ygK7raC"
   },
   "outputs": [
    {
     "name": "stdout",
     "output_type": "stream",
     "text": [
      "Tuple: (10, 20, 30, 40, 50)\n"
     ]
    }
   ],
   "source": [
    "# Creating a tuple\n",
    "my_tuple = (10, 20, 30, 40, 50)\n",
    "\n",
    "# Display the tuple\n",
    "print(\"Tuple:\", my_tuple)\n"
   ]
  },
  {
   "cell_type": "markdown",
   "metadata": {
    "id": "Ln8843X28UmN"
   },
   "source": [
    "# Functions"
   ]
  },
  {
   "cell_type": "markdown",
   "metadata": {
    "id": "yG2fgEC47zFH"
   },
   "source": [
    "### 1. index()"
   ]
  },
  {
   "cell_type": "code",
   "execution_count": 2,
   "metadata": {
    "id": "esR7LrMM8FdI"
   },
   "outputs": [
    {
     "name": "stdout",
     "output_type": "stream",
     "text": [
      "Index of 20: 1\n"
     ]
    }
   ],
   "source": [
    "# Given tuple\n",
    "my_tuple = (10, 20, 30, 20, 40)\n",
    "\n",
    "# Find index of first occurrence of 20\n",
    "index_of_20 = my_tuple.index(20)\n",
    "\n",
    "# Print the index\n",
    "print(\"Index of 20:\", index_of_20)\n"
   ]
  },
  {
   "cell_type": "markdown",
   "metadata": {
    "id": "8X5j-aVb8RLs"
   },
   "source": [
    "### 2. count ()"
   ]
  },
  {
   "cell_type": "code",
   "execution_count": 3,
   "metadata": {
    "id": "WsT-JB5H8jFS"
   },
   "outputs": [
    {
     "name": "stdout",
     "output_type": "stream",
     "text": [
      "Count of 10: 3\n"
     ]
    }
   ],
   "source": [
    "# Given tuple\n",
    "my_tuple = (10, 20, 10, 30, 10, 40)\n",
    "\n",
    "# Count how many times 10 appears\n",
    "count_10 = my_tuple.count(10)\n",
    "\n",
    "# Print the count\n",
    "print(\"Count of 10:\", count_10)\n"
   ]
  },
  {
   "cell_type": "markdown",
   "metadata": {
    "id": "GmcbQN_C8qQD"
   },
   "source": [
    "## 3. len ()\n"
   ]
  },
  {
   "cell_type": "code",
   "execution_count": 4,
   "metadata": {
    "id": "P9YaWLTf8u4T"
   },
   "outputs": [
    {
     "name": "stdout",
     "output_type": "stream",
     "text": [
      "Length of tuple: 4\n"
     ]
    }
   ],
   "source": [
    "# Given tuple\n",
    "my_tuple = (10, 20, 30, 40)\n",
    "\n",
    "# Find the length\n",
    "length = len(my_tuple)\n",
    "\n",
    "# Print the length\n",
    "print(\"Length of tuple:\", length)\n"
   ]
  },
  {
   "cell_type": "markdown",
   "metadata": {
    "id": "v_ULr1SA84FG"
   },
   "source": [
    "## 4. min () and max ()"
   ]
  },
  {
   "cell_type": "code",
   "execution_count": 5,
   "metadata": {
    "id": "LDXU-a7X86js"
   },
   "outputs": [
    {
     "name": "stdout",
     "output_type": "stream",
     "text": [
      "Max value: 40\n",
      "Min value: 10\n"
     ]
    }
   ],
   "source": [
    "# Given tuple\n",
    "my_tuple = (10, 20, 30, 40)\n",
    "\n",
    "# Find max and min values\n",
    "maximum_value = max(my_tuple)\n",
    "minimum_value = min(my_tuple)\n",
    "\n",
    "# Print values\n",
    "print(\"Max value:\", maximum_value)\n",
    "print(\"Min value:\", minimum_value)\n"
   ]
  },
  {
   "cell_type": "markdown",
   "metadata": {
    "id": "hNH3vuyO9TPv"
   },
   "source": [
    "## 5. sum ()"
   ]
  },
  {
   "cell_type": "code",
   "execution_count": 6,
   "metadata": {
    "id": "6a8hpcu_96gr"
   },
   "outputs": [
    {
     "name": "stdout",
     "output_type": "stream",
     "text": [
      "Sum of tuple: 100\n"
     ]
    }
   ],
   "source": [
    "# Given tuple\n",
    "my_tuple = (10, 20, 30, 40)\n",
    "\n",
    "# Calculate sum\n",
    "total = sum(my_tuple)\n",
    "\n",
    "# Print the sum\n",
    "print(\"Sum of tuple:\", total)\n"
   ]
  },
  {
   "cell_type": "markdown",
   "metadata": {
    "id": "gkHig6VA9_A2"
   },
   "source": [
    "# 6. tuple ()"
   ]
  },
  {
   "cell_type": "code",
   "execution_count": 8,
   "metadata": {
    "id": "oo_gwiGf-DP3"
   },
   "outputs": [
    {
     "name": "stdout",
     "output_type": "stream",
     "text": [
      "Converted tuple: [10, 20, 30, 40]\n"
     ]
    }
   ],
   "source": [
    "# Given list\n",
    "my_list = [10, 20, 30, 40]\n",
    "\n",
    "# Convert to tuple\n",
    "my_tuple = (my_list)\n",
    "\n",
    "# Print the tuple\n",
    "print(\"Converted tuple:\", my_tuple)\n"
   ]
  },
  {
   "cell_type": "markdown",
   "metadata": {
    "id": "mQOmzg_9ALNX"
   },
   "source": [
    "# DSA Problems on Tuples"
   ]
  },
  {
   "cell_type": "markdown",
   "metadata": {
    "id": "R37APc9QCsNk"
   },
   "source": [
    "### 1. Given a tuple of numbers and a target element, find and print all indexes where the target element occurs in the tuple."
   ]
  },
  {
   "cell_type": "code",
   "execution_count": 1,
   "metadata": {
    "colab": {
     "base_uri": "https://localhost:8080/"
    },
    "id": "-lyoQmRyC9cc",
    "outputId": "71c5c8d4-3af0-4dc0-abfe-eb0832aa6b81"
   },
   "outputs": [
    {
     "name": "stdout",
     "output_type": "stream",
     "text": [
      "[1, 3, 5]\n"
     ]
    }
   ],
   "source": [
    "my_tuple = (10, 20, 30, 20, 40, 20)\n",
    "target = 20\n",
    "\n",
    "indexes = []\n",
    "for i in range(len(my_tuple)):\n",
    "    if my_tuple[i] == target:\n",
    "        indexes.append(i)\n",
    "\n",
    "print(indexes)\n"
   ]
  },
  {
   "cell_type": "markdown",
   "metadata": {
    "id": "YBOhTqBpG8EQ"
   },
   "source": [
    "## 2: Flatten a Tuple of Tuples"
   ]
  },
  {
   "cell_type": "code",
   "execution_count": 9,
   "metadata": {
    "id": "6Xp0Mu8BHKA5"
   },
   "outputs": [
    {
     "name": "stdout",
     "output_type": "stream",
     "text": [
      "(1, 2, 3, 4, 5, 6)\n"
     ]
    }
   ],
   "source": [
    "nested_tuple = ((1, 2), (3, 4), (5, 6))\n",
    "flat_list = []\n",
    "\n",
    "for t in nested_tuple:\n",
    "    for num in t:\n",
    "        flat_list.append(num)\n",
    "\n",
    "flat_tuple = tuple(flat_list)\n",
    "print(flat_tuple)\n"
   ]
  },
  {
   "cell_type": "markdown",
   "metadata": {
    "id": "F50BjZATIE5P"
   },
   "source": [
    "## 3. Swap First and Last Elements"
   ]
  },
  {
   "cell_type": "code",
   "execution_count": 2,
   "metadata": {
    "colab": {
     "base_uri": "https://localhost:8080/"
    },
    "id": "_k0-u6tHIeKI",
    "outputId": "78dd03ee-f20f-4b12-ec79-3ceb33a63d1b"
   },
   "outputs": [
    {
     "name": "stdout",
     "output_type": "stream",
     "text": [
      "(40, 20, 30, 10)\n"
     ]
    }
   ],
   "source": [
    "my_tuple = (10, 20, 30, 40)\n",
    "temp = list(my_tuple)\n",
    "\n",
    "temp[0], temp[-1] = temp[-1], temp[0]\n",
    "\n",
    "new_tuple = tuple(temp)\n",
    "print(new_tuple)\n"
   ]
  },
  {
   "cell_type": "markdown",
   "metadata": {
    "id": "AKhFl9ZvImo3"
   },
   "source": [
    " ## 4: Find Second Largest Element"
   ]
  },
  {
   "cell_type": "code",
   "execution_count": 10,
   "metadata": {
    "id": "IIvVtaF9IwQq"
   },
   "outputs": [
    {
     "name": "stdout",
     "output_type": "stream",
     "text": [
      "40\n"
     ]
    }
   ],
   "source": [
    "my_tuple = (10, 40, 30, 20, 50)\n",
    "my_list = list(my_tuple)\n",
    "\n",
    "my_list.sort()\n",
    "second_largest = my_list[-2]\n",
    "\n",
    "print(second_largest)\n"
   ]
  },
  {
   "cell_type": "markdown",
   "metadata": {
    "id": "DLKeXZ8_IvJd"
   },
   "source": [
    "## 5: Check if Two Tuples are Identical"
   ]
  },
  {
   "cell_type": "code",
   "execution_count": 11,
   "metadata": {
    "id": "lJiSDR4aI_Lu"
   },
   "outputs": [
    {
     "name": "stdout",
     "output_type": "stream",
     "text": [
      "True\n"
     ]
    }
   ],
   "source": [
    "tuple1 = (10, 20, 30)\n",
    "tuple2 = (10, 20, 30)\n",
    "\n",
    "print(tuple1 == tuple2)\n"
   ]
  }
 ],
 "metadata": {
  "colab": {
   "provenance": []
  },
  "kernelspec": {
   "display_name": "Python 3 (ipykernel)",
   "language": "python",
   "name": "python3"
  },
  "language_info": {
   "codemirror_mode": {
    "name": "ipython",
    "version": 3
   },
   "file_extension": ".py",
   "mimetype": "text/x-python",
   "name": "python",
   "nbconvert_exporter": "python",
   "pygments_lexer": "ipython3",
   "version": "3.10.9"
  }
 },
 "nbformat": 4,
 "nbformat_minor": 4
}
