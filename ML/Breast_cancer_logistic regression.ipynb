{
 "cells": [
  {
   "cell_type": "code",
   "execution_count": 1,
   "id": "1493e11c-01f5-4964-8f59-bb7b65373891",
   "metadata": {},
   "outputs": [
    {
     "name": "stdout",
     "output_type": "stream",
     "text": [
      "Confusion Matrix:\n",
      " [[41  2]\n",
      " [ 1 70]]\n",
      "Accuracy      : 0.9736842105263158\n",
      "Precision     : 0.9722222222222222\n",
      "Recall        : 0.9859154929577465\n",
      "F1 Score      : 0.9790209790209791\n",
      "\n",
      "Predicted Probabilities:\n",
      " [[1.14654306e-01 8.85345694e-01]\n",
      " [9.99991258e-01 8.74244925e-06]\n",
      " [9.96935812e-01 3.06418819e-03]\n",
      " [5.01521801e-04 9.99498478e-01]\n",
      " [5.98499000e-05 9.99940150e-01]]\n"
     ]
    }
   ],
   "source": [
    "# Logistic Regression on Breast Cancer Dataset\n",
    "\n",
    "from sklearn.datasets import load_breast_cancer\n",
    "from sklearn.linear_model import LogisticRegression\n",
    "from sklearn.model_selection import train_test_split\n",
    "from sklearn.metrics import accuracy_score, precision_score, recall_score, f1_score, confusion_matrix\n",
    "\n",
    "# Step 1: Load the Breast Cancer dataset\n",
    "data = load_breast_cancer()\n",
    "X = data.data        # Features (30 columns)\n",
    "y = data.target      # Labels: 0 = malignant, 1 = benign\n",
    "\n",
    "# Step 2: Split the data into training and testing sets\n",
    "from sklearn.preprocessing import StandardScaler\n",
    "scaler = StandardScaler()\n",
    "X_scaled = scaler.fit_transform(X)  # Feature scaling\n",
    "\n",
    "X_train, X_test, y_train, y_test = train_test_split(X_scaled, y, test_size=0.2, random_state=42)\n",
    "\n",
    "# Step 3: Create and train the model\n",
    "model = LogisticRegression(max_iter=10000)  # increase max_iter for convergence\n",
    "model.fit(X_train, y_train)\n",
    "\n",
    "# Step 4: Predict on test data\n",
    "y_pred = model.predict(X_test)\n",
    "\n",
    "# Step 5: Evaluate the model\n",
    "accuracy = accuracy_score(y_test, y_pred)\n",
    "precision = precision_score(y_test, y_pred)\n",
    "recall = recall_score(y_test, y_pred)\n",
    "f1 = f1_score(y_test, y_pred)\n",
    "conf_matrix = confusion_matrix(y_test, y_pred)\n",
    "\n",
    "# Step 6: Print the results\n",
    "print(\"Confusion Matrix:\\n\", conf_matrix)\n",
    "print(\"Accuracy      :\", accuracy)\n",
    "print(\"Precision     :\", precision)\n",
    "print(\"Recall        :\", recall)\n",
    "print(\"F1 Score      :\", f1)\n",
    "\n",
    "# Step 7: Predict probabilities\n",
    "probabilities = model.predict_proba(X_test)\n",
    "print(\"\\nPredicted Probabilities:\\n\", probabilities[:5])\n"
   ]
  },
  {
   "cell_type": "code",
   "execution_count": null,
   "id": "b79a4f11-a0c5-4c37-924a-05f022225702",
   "metadata": {},
   "outputs": [],
   "source": []
  }
 ],
 "metadata": {
  "kernelspec": {
   "display_name": "Python 3 (ipykernel)",
   "language": "python",
   "name": "python3"
  },
  "language_info": {
   "codemirror_mode": {
    "name": "ipython",
    "version": 3
   },
   "file_extension": ".py",
   "mimetype": "text/x-python",
   "name": "python",
   "nbconvert_exporter": "python",
   "pygments_lexer": "ipython3",
   "version": "3.13.5"
  }
 },
 "nbformat": 4,
 "nbformat_minor": 5
}
