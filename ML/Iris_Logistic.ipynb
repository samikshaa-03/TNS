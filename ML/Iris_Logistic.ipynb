{
 "cells": [
  {
   "cell_type": "code",
   "execution_count": 6,
   "id": "b89b6ed3-c05b-4832-83d2-05bef0c2d913",
   "metadata": {},
   "outputs": [
    {
     "name": "stdout",
     "output_type": "stream",
     "text": [
      "Confusion Matrix:\n",
      " [[20  0]\n",
      " [ 0 10]]\n",
      "Accuracy      : 1.0\n",
      "Precision     : 1.0\n",
      "Recall        : 1.0\n",
      "F1 Score      : 1.0\n",
      "\n",
      "Predicted Probabilities:\n",
      " [[9.95446142e-01 4.55385779e-03]\n",
      " [4.14794882e-02 9.58520512e-01]\n",
      " [9.99994600e-01 5.40034424e-06]\n",
      " [9.93864864e-01 6.13513643e-03]\n",
      " [9.97742514e-01 2.25748581e-03]]\n"
     ]
    }
   ],
   "source": [
    "# Logistic Regression with Scikit-learn\n",
    "\n",
    "from sklearn.datasets import load_iris\n",
    "from sklearn.linear_model import LogisticRegression\n",
    "from sklearn.model_selection import train_test_split\n",
    "from sklearn.metrics import accuracy_score, precision_score,recall_score,f1_score,confusion_matrix\n",
    "\n",
    "# Step 1: Load the Iris dataset\n",
    "iris = load_iris()\n",
    "X = iris.data      # Features\n",
    "y = iris.target    # Labels (0, 1, 2)\n",
    "\n",
    "# Step 2: Convert it to a binary classification problem\n",
    "# Let's classify if the flower is Setosa (0) or not (1)\n",
    "import numpy as np\n",
    "y_binary = np.where(y == 0, 1, 0)  # 1 for Setosa, 0 for others\n",
    "\n",
    "# Step 3: Split the data\n",
    "X_train, X_test, y_train, y_test = train_test_split(X, y_binary, test_size=0.2, random_state=42)\n",
    "\n",
    "# Step 4: Create and train the model\n",
    "model = LogisticRegression()\n",
    "model.fit(X_train, y_train)\n",
    "\n",
    "# Step 5: Predict on test data\n",
    "y_pred = model.predict(X_test)\n",
    "\n",
    "# Step 6: Evaluate the model\n",
    "accuracy = accuracy_score(y_test, y_pred)\n",
    "precision = precision_score(y_test, y_pred)\n",
    "recall = recall_score(y_test, y_pred)\n",
    "f1 = f1_score(y_test, y_pred)\n",
    "conf_matrix = confusion_matrix(y_test, y_pred)\n",
    "\n",
    "# Step 7: Print the results\n",
    "print(\"Confusion Matrix:\\n\", conf_matrix)\n",
    "print(\"Accuracy      :\", accuracy)\n",
    "print(\"Precision     :\", precision)\n",
    "print(\"Recall        :\", recall)\n",
    "print(\"F1 Score      :\", f1)\n",
    "\n",
    "# Step 8: Predict probabilities\n",
    "probabilities = model.predict_proba(X_test)\n",
    "print(\"\\nPredicted Probabilities:\\n\", probabilities[:5])\n"
   ]
  },
  {
   "cell_type": "code",
   "execution_count": null,
   "id": "a2ee3c06-0ea6-4fa2-b26a-5a64ae9c6f1d",
   "metadata": {},
   "outputs": [],
   "source": []
  },
  {
   "cell_type": "code",
   "execution_count": null,
   "id": "a869400b-fdd2-47da-b37a-18958c58c648",
   "metadata": {},
   "outputs": [],
   "source": []
  }
 ],
 "metadata": {
  "kernelspec": {
   "display_name": "Python 3 (ipykernel)",
   "language": "python",
   "name": "python3"
  },
  "language_info": {
   "codemirror_mode": {
    "name": "ipython",
    "version": 3
   },
   "file_extension": ".py",
   "mimetype": "text/x-python",
   "name": "python",
   "nbconvert_exporter": "python",
   "pygments_lexer": "ipython3",
   "version": "3.13.5"
  }
 },
 "nbformat": 4,
 "nbformat_minor": 5
}
